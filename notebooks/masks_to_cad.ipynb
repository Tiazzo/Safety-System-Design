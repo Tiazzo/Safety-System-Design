{
 "cells": [
  {
   "cell_type": "markdown",
   "metadata": {},
   "source": [
    "# Masks to CAD output\n",
    "This notebook will produce CAD-compatible vectors in .DXF format from predicted masks and saves them to an output folder."
   ]
  },
  {
   "cell_type": "markdown",
   "metadata": {},
   "source": [
    "### Imports"
   ]
  },
  {
   "cell_type": "code",
   "execution_count": 3,
   "metadata": {},
   "outputs": [],
   "source": [
    "import os\n",
    "import cv2\n",
    "import numpy as np\n",
    "import ezdxf"
   ]
  },
  {
   "cell_type": "markdown",
   "metadata": {},
   "source": [
    "### Paths\n",
    "Choose whether to use predictions from U-Net or YOLO below"
   ]
  },
  {
   "cell_type": "code",
   "execution_count": 9,
   "metadata": {},
   "outputs": [],
   "source": [
    "input_folder = \"../data/predicted/U_Net/masks\"\n",
    "#input_folder = \"../data/predicted/YOLO/masks\"\n",
    "output_folder = \"../data/cad_output\""
   ]
  },
  {
   "cell_type": "markdown",
   "metadata": {},
   "source": [
    "### Convert Function"
   ]
  },
  {
   "cell_type": "code",
   "execution_count": 5,
   "metadata": {},
   "outputs": [],
   "source": [
    "def png_to_dxf_smooth(input_png, output_dxf, smoothing_iterations=3, epsilon_factor=0.01):\n",
    "    \"\"\"\n",
    "    Converts a binary PNG image to a DXF file with smoothed edges.\n",
    "    \n",
    "    Parameters:\n",
    "    - input_png (str): Path to the input binary PNG file containing the mask.\n",
    "    - output_dxf (str): Path to save the output DXF file.\n",
    "    - smoothing_iterations (int): Number of smoothing iterations for edge refinement.\n",
    "    - epsilon_factor (float): Factor to control the contour approximation (lower = more detail).\n",
    "    \"\"\"\n",
    "    # Load the binary PNG image\n",
    "    image = cv2.imread(input_png, cv2.IMREAD_GRAYSCALE)\n",
    "    if image is None:\n",
    "        raise FileNotFoundError(f\"Cannot open file: {input_png}\")\n",
    "\n",
    "    # Apply Gaussian Blur for smoothing\n",
    "    blurred_image = cv2.GaussianBlur(image, (5, 5), 0)\n",
    "\n",
    "    # Threshold the image to binary (black and white)\n",
    "    _, binary_image = cv2.threshold(blurred_image, 128, 255, cv2.THRESH_BINARY)\n",
    "\n",
    "    # Perform morphological smoothing (optional)\n",
    "    kernel = np.ones((3, 3), np.uint8)\n",
    "    smoothed_binary = cv2.morphologyEx(binary_image, cv2.MORPH_CLOSE, kernel, iterations=smoothing_iterations)\n",
    "\n",
    "    # Find contours of the shapes in the binary image\n",
    "    contours, _ = cv2.findContours(smoothed_binary, cv2.RETR_EXTERNAL, cv2.CHAIN_APPROX_SIMPLE)\n",
    "\n",
    "    # Create a new DXF document\n",
    "    doc = ezdxf.new()\n",
    "    msp = doc.modelspace()\n",
    "\n",
    "    # Iterate through contours, approximate, and add smoothed polylines to the DXF\n",
    "    for contour in contours:\n",
    "        # Simplify the contour using contour approximation\n",
    "        epsilon = epsilon_factor * cv2.arcLength(contour, True)\n",
    "        approx_curve = cv2.approxPolyDP(contour, epsilon, True)\n",
    "\n",
    "        # Convert to a list of points and scale\n",
    "        points = [(point[0][0], -point[0][1]) for point in approx_curve]\n",
    "        if len(points) > 1:\n",
    "            msp.add_lwpolyline(points, close=True)\n",
    "\n",
    "    # Save the DXF file\n",
    "    doc.saveas(output_dxf)\n",
    "    print(f\"DXF file saved as: {output_dxf}\")\n",
    "\n"
   ]
  },
  {
   "cell_type": "markdown",
   "metadata": {},
   "source": [
    "### Execute"
   ]
  },
  {
   "cell_type": "code",
   "execution_count": 10,
   "metadata": {},
   "outputs": [
    {
     "name": "stdout",
     "output_type": "stream",
     "text": [
      "Processing: ../data/predicted/YOLO/masks\\A_Fia_05_mask.png -> ../data/cad_output\\A_Fia_05_mask.dxf\n",
      "DXF file saved as: ../data/cad_output\\A_Fia_05_mask.dxf\n",
      "Batch conversion complete.\n"
     ]
    }
   ],
   "source": [
    "os.makedirs(output_folder, exist_ok=True)\n",
    "\n",
    "# Iterate through all files in the input folder\n",
    "for file_name in os.listdir(input_folder):\n",
    "    # Check if the file is a PNG\n",
    "    if file_name.lower().endswith(\".png\"):\n",
    "        input_png_path = os.path.join(input_folder, file_name)\n",
    "        output_dxf_name = os.path.splitext(file_name)[0] + \".dxf\"\n",
    "        output_dxf_path = os.path.join(output_folder, output_dxf_name)\n",
    "\n",
    "        # Call the function\n",
    "        print(f\"Processing: {input_png_path} -> {output_dxf_path}\")\n",
    "        png_to_dxf_smooth(input_png_path, output_dxf_path)\n",
    "\n",
    "print(\"Batch conversion complete.\")"
   ]
  }
 ],
 "metadata": {
  "kernelspec": {
   "display_name": ".venv",
   "language": "python",
   "name": "python3"
  },
  "language_info": {
   "codemirror_mode": {
    "name": "ipython",
    "version": 3
   },
   "file_extension": ".py",
   "mimetype": "text/x-python",
   "name": "python",
   "nbconvert_exporter": "python",
   "pygments_lexer": "ipython3",
   "version": "3.12.0"
  }
 },
 "nbformat": 4,
 "nbformat_minor": 2
}
