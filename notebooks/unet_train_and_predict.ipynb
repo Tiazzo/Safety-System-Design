{
 "cells": [
  {
   "cell_type": "markdown",
   "metadata": {},
   "source": [
    "# Instant segmentation with U-Net"
   ]
  },
  {
   "cell_type": "markdown",
   "metadata": {},
   "source": [
    "## 0. Utils"
   ]
  },
  {
   "cell_type": "code",
   "execution_count": 7,
   "metadata": {},
   "outputs": [],
   "source": [
    "from torch.utils.data import Dataset, DataLoader\n",
    "from albumentations.pytorch import ToTensorV2\n",
    "from albumentations import (\n",
    "    Resize,\n",
    "    Compose,\n",
    "    Normalize,\n",
    "    HorizontalFlip,\n",
    "    RandomBrightnessContrast,\n",
    ")\n",
    "import torch\n",
    "import matplotlib.pyplot as plt\n",
    "import cv2\n",
    "from pathlib import Path\n",
    "import os \n",
    "import numpy as np\n",
    "from torchvision import transforms\n"
   ]
  },
  {
   "cell_type": "markdown",
   "metadata": {},
   "source": [
    "## 1. Dataset creation"
   ]
  },
  {
   "cell_type": "markdown",
   "metadata": {},
   "source": [
    "### 1.1 Dataset class"
   ]
  },
  {
   "cell_type": "code",
   "execution_count": 2,
   "metadata": {},
   "outputs": [],
   "source": [
    "class SegmentationDataset(Dataset):\n",
    "    def __init__(self, images_dir, masks_dir, transform=None):\n",
    "        self.images_dir = images_dir\n",
    "        self.masks_dir = masks_dir\n",
    "        self.image_paths = sorted(list(Path(images_dir).glob(\"*.jpg\")))\n",
    "        self.mask_paths = sorted(list(Path(masks_dir).glob(\"*.png\")))\n",
    "        self.transform = transform\n",
    "\n",
    "    def __len__(self):\n",
    "        return len(self.image_paths)\n",
    "\n",
    "    def __getitem__(self, idx):\n",
    "        image_path = self.image_paths[idx]\n",
    "        mask_path = self.mask_paths[idx]\n",
    "\n",
    "        # Load image and mask\n",
    "        image = cv2.imread(str(image_path))\n",
    "        image = cv2.cvtColor(image, cv2.COLOR_BGR2RGB)\n",
    "        mask = cv2.imread(str(mask_path), cv2.IMREAD_GRAYSCALE)\n",
    "\n",
    "        # Apply transformations\n",
    "        if self.transform:\n",
    "            augmented = self.transform(image=image, mask=mask)\n",
    "            image = augmented[\"image\"]\n",
    "            mask = augmented[\"mask\"]\n",
    "\n",
    "        # Normalize mask (binary: 0 or 1)\n",
    "        mask = torch.tensor(mask, dtype=torch.float32).unsqueeze(0) / 255.0\n",
    "\n",
    "        return image, mask"
   ]
  },
  {
   "cell_type": "markdown",
   "metadata": {},
   "source": [
    "### 1.2 Data augmentation during training"
   ]
  },
  {
   "cell_type": "code",
   "execution_count": 3,
   "metadata": {},
   "outputs": [],
   "source": [
    "# Training augmentations\n",
    "train_transform = Compose(\n",
    "    [\n",
    "        HorizontalFlip(p=0.5),\n",
    "        RandomBrightnessContrast(p=0.2),\n",
    "        Normalize(mean=(0.485, 0.456, 0.406), std=(0.229, 0.224, 0.225)),\n",
    "        Resize(512, 512),\n",
    "        ToTensorV2(),\n",
    "    ]\n",
    ")\n",
    "\n",
    "# Validation augmentations\n",
    "val_transform = Compose(\n",
    "    [\n",
    "        Normalize(mean=(0.485, 0.456, 0.406), std=(0.229, 0.224, 0.225)),\n",
    "        Resize(512, 512),\n",
    "        ToTensorV2(),\n",
    "    ]\n",
    ")"
   ]
  },
  {
   "cell_type": "markdown",
   "metadata": {},
   "source": [
    "## 2. Training"
   ]
  },
  {
   "cell_type": "markdown",
   "metadata": {},
   "source": [
    "Run the following cells if you want train the model, otherwise go to Section 3"
   ]
  },
  {
   "cell_type": "markdown",
   "metadata": {},
   "source": [
    "Data Loader"
   ]
  },
  {
   "cell_type": "code",
   "execution_count": 4,
   "metadata": {},
   "outputs": [],
   "source": [
    "train_images_dir = \"../data/model_training/split/train/images\"\n",
    "train_masks_dir = \"../data/model_training/split/train/masks\"\n",
    "val_images_dir = \"../data/model_training/split/val/images\"\n",
    "val_masks_dir = \"../data/model_training/split/val/masks\"\n",
    "test_images_dir = \"../data/model_training/split/test/images\"\n",
    "test_masks_dir = \"../data/split/model_training/test/masks\""
   ]
  },
  {
   "cell_type": "code",
   "execution_count": 5,
   "metadata": {},
   "outputs": [],
   "source": [
    "train_dataset = SegmentationDataset(train_images_dir, train_masks_dir, transform=train_transform)\n",
    "val_dataset = SegmentationDataset(val_images_dir, val_masks_dir, transform=val_transform)\n",
    "\n",
    "train_loader = DataLoader(train_dataset, batch_size=8, shuffle=True)\n",
    "val_loader = DataLoader(val_dataset, batch_size=8, shuffle=False)"
   ]
  },
  {
   "cell_type": "markdown",
   "metadata": {},
   "source": [
    "Model definition"
   ]
  },
  {
   "cell_type": "code",
   "execution_count": null,
   "metadata": {},
   "outputs": [],
   "source": [
    "%pip install segmentation_models_pytorch"
   ]
  },
  {
   "cell_type": "code",
   "execution_count": 6,
   "metadata": {},
   "outputs": [],
   "source": [
    "from segmentation_models_pytorch import Unet\n",
    "\n",
    "# Define the U-Net model\n",
    "model = Unet(\n",
    "    encoder_name=\"resnet34\",  # Encoder backbone\n",
    "    encoder_weights=\"imagenet\",  # Pretrained on ImageNet\n",
    "    in_channels=3,  # Input channels (RGB)\n",
    "    classes=1,  # Output channels (binary segmentation)\n",
    ")"
   ]
  },
  {
   "cell_type": "markdown",
   "metadata": {},
   "source": [
    "### 2.1 Training function"
   ]
  },
  {
   "cell_type": "code",
   "execution_count": null,
   "metadata": {},
   "outputs": [],
   "source": [
    "from torch.optim import Adam\n",
    "from torch.nn import BCEWithLogitsLoss\n",
    "\n",
    "torch.cuda.empty_cache()\n",
    "print(torch.cuda.is_available())\n",
    "print(torch.cuda.device_count())\n",
    "print(torch.cuda.get_device_name(0) if torch.cuda.is_available() else \"No GPU\")\n",
    "# Device\n",
    "device = \"cuda\" if torch.cuda.is_available() else \"cpu\"\n",
    "model = model.to(device)\n",
    "\n",
    "# Loss and optimizer\n",
    "criterion = BCEWithLogitsLoss()\n",
    "optimizer = Adam(model.parameters(), lr=0.001)\n",
    "\n",
    "def save_checkpoint(model, optimizer, epoch, path=\"../checkpoints/test_best_unet_model.pth\"):\n",
    "    checkpoint = {\n",
    "        \"model_state_dict\": model.state_dict(),\n",
    "        \"optimizer_state_dict\": optimizer.state_dict(),\n",
    "        \"epoch\": epoch,\n",
    "    }\n",
    "    torch.save(checkpoint, path)\n",
    "    print(f\"Checkpoint saved at epoch {epoch} to {path}\")\n",
    "\n",
    "best_val_loss = float(\"inf\")\n",
    "num_epochs = 10\n",
    "for epoch in range(num_epochs):\n",
    "    model.train()\n",
    "    train_loss = 0\n",
    "    for images, masks in train_loader:\n",
    "        images, masks = images.to(device), masks.to(device)\n",
    "\n",
    "        # Forward pass\n",
    "        outputs = model(images)\n",
    "        loss = criterion(outputs, masks)\n",
    "\n",
    "        # Backward pass\n",
    "        optimizer.zero_grad()\n",
    "        loss.backward()\n",
    "        optimizer.step()\n",
    "\n",
    "        train_loss += loss.item()\n",
    "\n",
    "    print(f\"Epoch [{epoch+1}/{num_epochs}], Training Loss: {train_loss:.4f}\")\n",
    "\n",
    "    # Validation\n",
    "    model.eval()\n",
    "    val_loss = 0\n",
    "    with torch.no_grad():\n",
    "        for images, masks in val_loader:\n",
    "            images, masks = images.to(device), masks.to(device)\n",
    "            outputs = model(images)\n",
    "            loss = criterion(outputs, masks)\n",
    "            val_loss += loss.item()\n",
    "\n",
    "    print(f\"Epoch [{epoch+1}/{num_epochs}], Validation Loss: {val_loss:.4f}\")\n",
    "    # Save the best model\n",
    "    if val_loss < best_val_loss:\n",
    "        best_val_loss = val_loss\n",
    "        torch.save(model.state_dict(), \"../checkpoints/test_best_unet_model.pth\")\n",
    "        print(\"Best model saved!\")\n",
    "\n",
    "    # Save periodic checkpoints\n",
    "    if epoch % 5 == 0:\n",
    "        save_checkpoint(model, optimizer, epoch, path=f\"../checkpoints/unet_checkpoint_epoch_{epoch}.pth\")\n"
   ]
  },
  {
   "cell_type": "markdown",
   "metadata": {},
   "source": [
    "### 2.1 Visualize results"
   ]
  },
  {
   "cell_type": "code",
   "execution_count": 9,
   "metadata": {},
   "outputs": [],
   "source": [
    "import random\n",
    "\n",
    "def visualize_test_results(model, dataloader, num_samples=10):\n",
    "    \"\"\"\n",
    "    Visualizes random test results by displaying original images, true masks, and predicted masks.\n",
    "\n",
    "    Parameters:\n",
    "        model (torch.nn.Module): Trained model for inference.\n",
    "        dataloader (DataLoader): DataLoader containing test dataset.\n",
    "        num_samples (int): Number of random samples to visualize.\n",
    "    \"\"\"\n",
    "    model.eval()\n",
    "\n",
    "    # Flatten the dataset into a list of indices\n",
    "    dataset_indices = list(range(len(dataloader.dataset)))\n",
    "\n",
    "    # Randomly sample indices\n",
    "    selected_indices = random.sample(\n",
    "        dataset_indices, min(num_samples, len(dataset_indices))\n",
    "    )\n",
    "\n",
    "    with torch.no_grad():\n",
    "        for idx in selected_indices:\n",
    "            # Retrieve the image and mask at the selected index\n",
    "            image, mask = dataloader.dataset[idx]\n",
    "\n",
    "            # Convert to device and add batch dimension\n",
    "            image_tensor = image.unsqueeze(0).to(device)\n",
    "            mask_tensor = mask.unsqueeze(0).to(device)\n",
    "\n",
    "            # Model prediction\n",
    "            output = model(image_tensor)\n",
    "            pred = (torch.sigmoid(output) > 0.5).float()\n",
    "\n",
    "            # Visualize\n",
    "            plt.figure(figsize=(12, 6))\n",
    "\n",
    "            # Original image\n",
    "            plt.subplot(1, 3, 1)\n",
    "            plt.imshow(image.permute(1, 2, 0).cpu().numpy())\n",
    "            plt.title(\"Original Image\")\n",
    "            plt.axis(\"off\")\n",
    "\n",
    "            # True mask\n",
    "            plt.subplot(1, 3, 2)\n",
    "            plt.imshow(mask.squeeze().cpu().numpy(), cmap=\"gray\")\n",
    "            plt.title(\"True Mask\")\n",
    "            plt.axis(\"off\")\n",
    "\n",
    "            # Predicted mask\n",
    "            plt.subplot(1, 3, 3)\n",
    "            plt.imshow(pred.squeeze().cpu().numpy(), cmap=\"gray\")\n",
    "            plt.title(\"Predicted Mask\")\n",
    "            plt.axis(\"off\")\n",
    "\n",
    "            plt.tight_layout()\n",
    "            plt.show()"
   ]
  },
  {
   "cell_type": "markdown",
   "metadata": {},
   "source": [
    "## 3. Load checkpoint"
   ]
  },
  {
   "cell_type": "markdown",
   "metadata": {},
   "source": [
    "Load the pre-saved checkpoint"
   ]
  },
  {
   "cell_type": "code",
   "execution_count": null,
   "metadata": {},
   "outputs": [],
   "source": [
    "from segmentation_models_pytorch import Unet\n",
    "\n",
    "device = \"cuda\" if torch.cuda.is_available() else \"cpu\"\n",
    "model = Unet(encoder_name=\"resnet34\", in_channels=3, classes=1).to(device)\n",
    "model.load_state_dict(torch.load(\"../checkpoints/test_best_unet_model.pth\", map_location=device))\n",
    "model.eval()\n",
    "\n",
    "test_transform = Compose(\n",
    "    [\n",
    "        Normalize(mean=(0.485, 0.456, 0.406), std=(0.229, 0.224, 0.225)),\n",
    "        Resize(512, 512),\n",
    "        ToTensorV2(),\n",
    "    ]\n",
    ")"
   ]
  },
  {
   "cell_type": "markdown",
   "metadata": {},
   "source": [
    "## 4. Predict on Single Image"
   ]
  },
  {
   "cell_type": "code",
   "execution_count": 46,
   "metadata": {},
   "outputs": [],
   "source": [
    "def predict_and_save_masks(input_path, model, transform, output_dir, device=device):\n",
    "    \"\"\"\n",
    "    Predict masks for a single image or all images in a directory and save them.\n",
    "\n",
    "    Args:\n",
    "        input_path (str): Path to a single image or a directory containing images.\n",
    "        model (torch.nn.Module): Trained PyTorch model.\n",
    "        transform (albumentations.Compose): Transformations for preprocessing.\n",
    "        output_dir (str): Path to save the predicted masks.\n",
    "        device (str): Device to run the prediction on (\"cuda\" or \"cpu\").\n",
    "\n",
    "    Returns:\n",
    "        None (saves all predicted masks to the specified output directory).\n",
    "    \"\"\"\n",
    "    model.eval()\n",
    "    model.to(device)\n",
    "\n",
    "    os.makedirs(output_dir, exist_ok=True)\n",
    "\n",
    "    input_path = Path(input_path)\n",
    "    if input_path.is_file():\n",
    "        image_paths = [input_path]\n",
    "    elif input_path.is_dir():\n",
    "        image_paths = list(input_path.glob(\"*.*\")) \n",
    "    else:\n",
    "        raise ValueError(f\"Input path {input_path} is neither a file nor a directory.\")\n",
    "\n",
    "    for image_path in image_paths:\n",
    "        image = cv2.imread(str(image_path))\n",
    "        if image is None:\n",
    "            print(f\"Could not read image {image_path}. Skipping.\")\n",
    "            continue\n",
    "\n",
    "        # Apply transformations\n",
    "        transformed = transform(image=image)\n",
    "        input_image = transformed[\"image\"].unsqueeze(0).to(device)  # Add batch dimension\n",
    "\n",
    "        # Predict the mask\n",
    "        with torch.no_grad():\n",
    "            output = model(input_image)\n",
    "            predicted_mask = torch.sigmoid(output).squeeze(0).squeeze(0).cpu().numpy()\n",
    "\n",
    "        predicted_mask = (predicted_mask > 0.5).astype(np.uint8) * 255 \n",
    "    \n",
    "        mask_name = f\"{image_path.stem}_mask.png\"\n",
    "        mask_path = os.path.join(output_dir, mask_name)\n",
    "        cv2.imwrite(mask_path, predicted_mask)\n",
    "\n",
    "        print(f\"Mask saved for {image_path} at {mask_path}\")\n"
   ]
  },
  {
   "cell_type": "markdown",
   "metadata": {},
   "source": [
    "### Single image"
   ]
  },
  {
   "cell_type": "markdown",
   "metadata": {},
   "source": [
    "Replace `image_path` with the path of the single image you want to predict.\\\n",
    "Replace `output_dir` with the output path."
   ]
  },
  {
   "cell_type": "code",
   "execution_count": null,
   "metadata": {},
   "outputs": [],
   "source": [
    "image_path = \"CONFIGURE_PATH_TO_IMAGE\" \n",
    "output_dir = \"CONFIGURE_OUTPUT_DIR\"            \n",
    "predict_and_save_masks(image_path, model, test_transform, output_dir, device=device)\n"
   ]
  },
  {
   "cell_type": "markdown",
   "metadata": {},
   "source": [
    "### Multiple images"
   ]
  },
  {
   "cell_type": "markdown",
   "metadata": {},
   "source": [
    "Replace `images_dir` with the path of the single image you want to predict.\\\n",
    "Replace `output_dir` with the output path."
   ]
  },
  {
   "cell_type": "code",
   "execution_count": null,
   "metadata": {},
   "outputs": [],
   "source": [
    "images_dir = \"CONFIGURE_PATH_TO_IMAGES\" \n",
    "output_dir = \"CONFIGURE_OUTPUT_DIR\" \n",
    "\n",
    "predict_and_save_masks(images_dir, model, test_transform, output_dir, device=device)\n"
   ]
  }
 ],
 "metadata": {
  "kernelspec": {
   "display_name": ".venv",
   "language": "python",
   "name": "python3"
  },
  "language_info": {
   "codemirror_mode": {
    "name": "ipython",
    "version": 3
   },
   "file_extension": ".py",
   "mimetype": "text/x-python",
   "name": "python",
   "nbconvert_exporter": "python",
   "pygments_lexer": "ipython3",
   "version": "3.12.2"
  }
 },
 "nbformat": 4,
 "nbformat_minor": 2
}
